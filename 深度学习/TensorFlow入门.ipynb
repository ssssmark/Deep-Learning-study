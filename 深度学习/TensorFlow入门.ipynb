{
 "cells": [
  {
   "cell_type": "code",
   "execution_count": 9,
   "metadata": {},
   "outputs": [
    {
     "name": "stdout",
     "output_type": "stream",
     "text": [
      "tf.Tensor(\n",
      "[[1.]\n",
      " [1.]], shape=(2, 1), dtype=float32)\n"
     ]
    }
   ],
   "source": [
    "import tensorflow as tf\n",
    "x=tf.ones(shape=(2,1))\n",
    "print(x)"
   ]
  },
  {
   "attachments": {},
   "cell_type": "markdown",
   "metadata": {},
   "source": [
    "全1张量"
   ]
  },
  {
   "attachments": {},
   "cell_type": "markdown",
   "metadata": {},
   "source": [
    "### 常数张量和变量"
   ]
  },
  {
   "cell_type": "code",
   "execution_count": 10,
   "metadata": {},
   "outputs": [
    {
     "name": "stdout",
     "output_type": "stream",
     "text": [
      "tf.Tensor(\n",
      "[[0.]\n",
      " [0.]], shape=(2, 1), dtype=float32)\n"
     ]
    }
   ],
   "source": [
    "x=tf.zeros(shape=(2,1))\n",
    "print(x)"
   ]
  },
  {
   "attachments": {},
   "cell_type": "markdown",
   "metadata": {},
   "source": [
    "全0张量"
   ]
  },
  {
   "cell_type": "code",
   "execution_count": 11,
   "metadata": {},
   "outputs": [
    {
     "name": "stdout",
     "output_type": "stream",
     "text": [
      "tf.Tensor(\n",
      "[[-0.48103842]\n",
      " [-0.962853  ]\n",
      " [ 0.58641815]], shape=(3, 1), dtype=float32)\n",
      "tf.Tensor(\n",
      "[[0.6175209 ]\n",
      " [0.9783952 ]\n",
      " [0.56153595]], shape=(3, 1), dtype=float32)\n"
     ]
    }
   ],
   "source": [
    "x=tf.random.normal(shape=(3,1),mean=0,stddev=1) # 从均值为0，标准差为1的正态分布中抽取随机张量\n",
    "print(x)\n",
    "y=tf.random.uniform(shape=(3,1),minval=0,maxval=1) #从0-1的均匀分布中抽取随机张量\n",
    "print(y)"
   ]
  },
  {
   "attachments": {},
   "cell_type": "markdown",
   "metadata": {},
   "source": [
    "Numpy数组和TensorFlow张量之间的一个主要区别是TensorFlow张量是不可赋值的，但是Numpy数组可以赋值"
   ]
  },
  {
   "cell_type": "code",
   "execution_count": 12,
   "metadata": {},
   "outputs": [
    {
     "name": "stdout",
     "output_type": "stream",
     "text": [
      "[[0. 1.]\n",
      " [1. 1.]]\n"
     ]
    }
   ],
   "source": [
    "import numpy as np\n",
    "x=np.ones(shape=(2,2))\n",
    "x[0,0]=0 #可赋值\n",
    "print(x)"
   ]
  },
  {
   "cell_type": "code",
   "execution_count": 13,
   "metadata": {},
   "outputs": [
    {
     "name": "stdout",
     "output_type": "stream",
     "text": [
      "<tf.Variable 'Variable:0' shape=(3, 1) dtype=float32, numpy=\n",
      "array([[ 0.58529013],\n",
      "       [-0.15528397],\n",
      "       [-0.14135493]], dtype=float32)>\n"
     ]
    }
   ],
   "source": [
    "v=tf.Variable(initial_value=tf.random.normal(shape=(3,1))) # TensorFlow变量\n",
    "print(v)"
   ]
  },
  {
   "cell_type": "code",
   "execution_count": 14,
   "metadata": {},
   "outputs": [
    {
     "name": "stdout",
     "output_type": "stream",
     "text": [
      "<tf.Variable 'Variable:0' shape=(3, 1) dtype=float32, numpy=\n",
      "array([[1.],\n",
      "       [1.],\n",
      "       [1.]], dtype=float32)>\n",
      "<tf.Variable 'Variable:0' shape=(3, 1) dtype=float32, numpy=\n",
      "array([[3.],\n",
      "       [1.],\n",
      "       [1.]], dtype=float32)>\n",
      "<tf.Variable 'Variable:0' shape=(3, 1) dtype=float32, numpy=\n",
      "array([[4.],\n",
      "       [2.],\n",
      "       [2.]], dtype=float32)>\n"
     ]
    }
   ],
   "source": [
    "v.assign(tf.ones((3,1)))\n",
    "print(v)\n",
    "v[0,0].assign(3)\n",
    "print(v)\n",
    "v.assign_add(tf.ones((3,1)))\n",
    "print(v)"
   ]
  },
  {
   "attachments": {},
   "cell_type": "markdown",
   "metadata": {},
   "source": [
    "使用GradientTape检索任意可微表达式相对于其输入的梯度"
   ]
  },
  {
   "cell_type": "code",
   "execution_count": 18,
   "metadata": {},
   "outputs": [
    {
     "name": "stdout",
     "output_type": "stream",
     "text": [
      "None\n"
     ]
    }
   ],
   "source": [
    "input_var =tf.Variable(initial_value=3)\n",
    "with tf.GradientTape() as tape:\n",
    "    result= tf.square(input_var)\n",
    "gradient=tape.gradient(result,input_var)\n",
    "print(gradient)"
   ]
  },
  {
   "attachments": {},
   "cell_type": "markdown",
   "metadata": {},
   "source": [
    "利用嵌套的梯度带计算二阶梯度"
   ]
  },
  {
   "cell_type": "code",
   "execution_count": null,
   "metadata": {},
   "outputs": [],
   "source": [
    "time=tf.Variable(0)\n",
    "with tf.GradientTape() as outertape:\n",
    "    with tf.GradientTape()  "
   ]
  }
 ],
 "metadata": {
  "kernelspec": {
   "display_name": "Python 3",
   "language": "python",
   "name": "python3"
  },
  "language_info": {
   "codemirror_mode": {
    "name": "ipython",
    "version": 3
   },
   "file_extension": ".py",
   "mimetype": "text/x-python",
   "name": "python",
   "nbconvert_exporter": "python",
   "pygments_lexer": "ipython3",
   "version": "3.10.11"
  },
  "orig_nbformat": 4
 },
 "nbformat": 4,
 "nbformat_minor": 2
}
