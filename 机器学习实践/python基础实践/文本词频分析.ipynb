{
 "cells": [
  {
   "cell_type": "code",
   "execution_count": 7,
   "metadata": {},
   "outputs": [],
   "source": [
    "with open('text.txt','r',encoding='GBK') as novelfile:\n",
    "    novel =novelfile.read()"
   ]
  },
  {
   "cell_type": "code",
   "execution_count": 8,
   "metadata": {},
   "outputs": [
    {
     "name": "stdout",
     "output_type": "stream",
     "text": [
      "Requirement already satisfied: jieba in c:\\users\\redamancy\\appdata\\local\\packages\\pythonsoftwarefoundation.python.3.10_qbz5n2kfra8p0\\localcache\\local-packages\\python310\\site-packages (0.42.1)Note: you may need to restart the kernel to use updated packages.\n",
      "\n"
     ]
    },
    {
     "name": "stderr",
     "output_type": "stream",
     "text": [
      "\n",
      "[notice] A new release of pip is available: 23.0.1 -> 23.1.2\n",
      "[notice] To update, run: C:\\Users\\Redamancy\\AppData\\Local\\Microsoft\\WindowsApps\\PythonSoftwareFoundation.Python.3.10_qbz5n2kfra8p0\\python.exe -m pip install --upgrade pip\n"
     ]
    }
   ],
   "source": [
    "pip install jieba"
   ]
  },
  {
   "attachments": {},
   "cell_type": "markdown",
   "metadata": {},
   "source": [
    "jieba是一种第三方分词工具"
   ]
  },
  {
   "cell_type": "code",
   "execution_count": 9,
   "metadata": {},
   "outputs": [],
   "source": [
    "import jieba\n",
    "novellist=list(jieba.lcut(novel))"
   ]
  },
  {
   "attachments": {},
   "cell_type": "markdown",
   "metadata": {},
   "source": [
    "自然语言中存在很多无意义的刺入标点，“的”，“之”等等，称为停用词，为了避免这些词对统计结果的干扰，通常在分词之后需要将其剔除。"
   ]
  },
  {
   "cell_type": "code",
   "execution_count": 10,
   "metadata": {},
   "outputs": [],
   "source": [
    "# 加载停用词\n",
    "stopwords= [line.strip() for line in open('stop.txt','r',encoding='UTF-8').readlines()]\n",
    "novelDict={}\n",
    "# 统计出词频字典\n",
    "for word in novellist:\n",
    "    if word not in stopwords:\n",
    "        if len(word)==1:\n",
    "            continue\n",
    "        else:\n",
    "            novelDict[word]=novelDict.get(word,0)+1"
   ]
  },
  {
   "attachments": {},
   "cell_type": "markdown",
   "metadata": {},
   "source": [
    "对上述步骤得到的字典映射按词频进行排序，并输出前20词频的词"
   ]
  },
  {
   "cell_type": "code",
   "execution_count": 11,
   "metadata": {},
   "outputs": [
    {
     "name": "stdout",
     "output_type": "stream",
     "text": [
      "('父亲', 98)\n",
      "('背影', 54)\n",
      "('作者', 39)\n",
      "('儿子', 28)\n",
      "('铁道', 17)\n",
      "('表现', 17)\n",
      "('感情', 15)\n",
      "('文章', 15)\n",
      "('橘子', 14)\n",
      "('散文', 11)\n",
      "('茶房', 10)\n",
      "('桔子', 10)\n",
      "('月台', 10)\n",
      "('朱自清', 10)\n",
      "('父子', 10)\n",
      "('白描', 10)\n",
      "('一日', 9)\n",
      "('语言', 9)\n",
      "('描写', 9)\n",
      "('感人', 9)\n"
     ]
    }
   ],
   "source": [
    "#排序\n",
    "novellistSorted =list(novelDict.items())\n",
    "novellistSorted.sort(key=lambda e:e[1],reverse=True)\n",
    "#打印\n",
    "topWordNum=0\n",
    "for topWord in novellistSorted[:20]:\n",
    "    print(topWord)"
   ]
  }
 ],
 "metadata": {
  "kernelspec": {
   "display_name": "Python 3",
   "language": "python",
   "name": "python3"
  },
  "language_info": {
   "codemirror_mode": {
    "name": "ipython",
    "version": 3
   },
   "file_extension": ".py",
   "mimetype": "text/x-python",
   "name": "python",
   "nbconvert_exporter": "python",
   "pygments_lexer": "ipython3",
   "version": "3.10.11"
  },
  "orig_nbformat": 4
 },
 "nbformat": 4,
 "nbformat_minor": 2
}
